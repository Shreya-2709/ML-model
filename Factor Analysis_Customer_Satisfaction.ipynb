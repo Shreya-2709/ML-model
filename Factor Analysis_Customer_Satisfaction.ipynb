{
 "cells": [
  {
   "cell_type": "markdown",
   "metadata": {
    "id": "9Rv8Y1_-ysr9"
   },
   "source": [
    "# Import Library & Data"
   ]
  },
  {
   "cell_type": "code",
   "execution_count": 4,
   "metadata": {
    "executionInfo": {
     "elapsed": 2897,
     "status": "ok",
     "timestamp": 1730887170252,
     "user": {
      "displayName": "Shirsat Saurabh Girish (PGDM 23-25)",
      "userId": "10365784960197800357"
     },
     "user_tz": -330
    },
    "id": "XlDJKLIhyssE"
   },
   "outputs": [],
   "source": [
    "import pandas as pd\n",
    "from factor_analyzer import FactorAnalyzer"
   ]
  },
  {
   "cell_type": "code",
   "execution_count": 2,
   "metadata": {},
   "outputs": [],
   "source": [
    "# pip install pandas==1.3.6"
   ]
  },
  {
   "cell_type": "code",
   "execution_count": 3,
   "metadata": {},
   "outputs": [
    {
     "name": "stdout",
     "output_type": "stream",
     "text": [
      "Collecting factor-analyzer\n",
      "  Downloading factor_analyzer-0.5.1.tar.gz (42 kB)\n",
      "     ---------------------------------------- 0.0/42.8 kB ? eta -:--:--\n",
      "     --------- ------------------------------ 10.2/42.8 kB ? eta -:--:--\n",
      "     ------------------------------------ - 41.0/42.8 kB 487.6 kB/s eta 0:00:01\n",
      "     -------------------------------------- 42.8/42.8 kB 346.6 kB/s eta 0:00:00\n",
      "  Installing build dependencies: started\n",
      "  Installing build dependencies: finished with status 'done'\n",
      "  Getting requirements to build wheel: started\n",
      "  Getting requirements to build wheel: finished with status 'done'\n",
      "  Preparing metadata (pyproject.toml): started\n",
      "  Preparing metadata (pyproject.toml): finished with status 'done'\n",
      "Requirement already satisfied: pandas in c:\\users\\shrey\\anaconda3\\lib\\site-packages (from factor-analyzer) (2.2.3)\n",
      "Requirement already satisfied: scipy in c:\\users\\shrey\\anaconda3\\lib\\site-packages (from factor-analyzer) (1.14.1)\n",
      "Requirement already satisfied: numpy in c:\\users\\shrey\\anaconda3\\lib\\site-packages (from factor-analyzer) (1.24.4)\n",
      "Requirement already satisfied: scikit-learn in c:\\users\\shrey\\anaconda3\\lib\\site-packages (from factor-analyzer) (1.5.2)\n",
      "Requirement already satisfied: python-dateutil>=2.8.2 in c:\\users\\shrey\\anaconda3\\lib\\site-packages (from pandas->factor-analyzer) (2.8.2)\n",
      "Requirement already satisfied: pytz>=2020.1 in c:\\users\\shrey\\anaconda3\\lib\\site-packages (from pandas->factor-analyzer) (2023.3.post1)\n",
      "Requirement already satisfied: tzdata>=2022.7 in c:\\users\\shrey\\anaconda3\\lib\\site-packages (from pandas->factor-analyzer) (2023.3)\n",
      "Requirement already satisfied: joblib>=1.2.0 in c:\\users\\shrey\\anaconda3\\lib\\site-packages (from scikit-learn->factor-analyzer) (1.2.0)\n",
      "Requirement already satisfied: threadpoolctl>=3.1.0 in c:\\users\\shrey\\anaconda3\\lib\\site-packages (from scikit-learn->factor-analyzer) (3.5.0)\n",
      "Requirement already satisfied: six>=1.5 in c:\\users\\shrey\\anaconda3\\lib\\site-packages (from python-dateutil>=2.8.2->pandas->factor-analyzer) (1.16.0)\n",
      "Building wheels for collected packages: factor-analyzer\n",
      "  Building wheel for factor-analyzer (pyproject.toml): started\n",
      "  Building wheel for factor-analyzer (pyproject.toml): finished with status 'done'\n",
      "  Created wheel for factor-analyzer: filename=factor_analyzer-0.5.1-py2.py3-none-any.whl size=42623 sha256=70669cc4ee7102fec6367ba3ee404c938304c8ec359e5e2cf95e835d01c8e249\n",
      "  Stored in directory: c:\\users\\shrey\\appdata\\local\\pip\\cache\\wheels\\fa\\f7\\53\\a55a8a56668a6fe0199e0e02b6e0ae3007ec35cdf6e4c25df7\n",
      "Successfully built factor-analyzer\n",
      "Installing collected packages: factor-analyzer\n",
      "Successfully installed factor-analyzer-0.5.1\n",
      "Note: you may need to restart the kernel to use updated packages.\n"
     ]
    }
   ],
   "source": [
    "# pip install factor-analyzer\n"
   ]
  },
  {
   "cell_type": "code",
   "execution_count": 5,
   "metadata": {
    "executionInfo": {
     "elapsed": 460,
     "status": "ok",
     "timestamp": 1730887311544,
     "user": {
      "displayName": "Shirsat Saurabh Girish (PGDM 23-25)",
      "userId": "10365784960197800357"
     },
     "user_tz": -330
    },
    "id": "IN3Y2x4vyssG"
   },
   "outputs": [],
   "source": [
    "df= pd.read_csv(r\"D:\\Shreya user\\Downloads\\customer_survey_data.csv\")"
   ]
  },
  {
   "cell_type": "code",
   "execution_count": 6,
   "metadata": {
    "id": "sRIdsEE3yssH"
   },
   "outputs": [
    {
     "data": {
      "text/plain": [
       "Index(['Customer_Satisfaction', 'Product_Quality', 'Customer_Service',\n",
       "       'Price_Affordability', 'Brand_Trust', 'Recommend_To_Friends'],\n",
       "      dtype='object')"
      ]
     },
     "execution_count": 6,
     "metadata": {},
     "output_type": "execute_result"
    }
   ],
   "source": [
    "df.columns"
   ]
  },
  {
   "cell_type": "code",
   "execution_count": 7,
   "metadata": {
    "id": "O06nf1G0yssJ"
   },
   "outputs": [
    {
     "data": {
      "text/html": [
       "<div>\n",
       "<style scoped>\n",
       "    .dataframe tbody tr th:only-of-type {\n",
       "        vertical-align: middle;\n",
       "    }\n",
       "\n",
       "    .dataframe tbody tr th {\n",
       "        vertical-align: top;\n",
       "    }\n",
       "\n",
       "    .dataframe thead th {\n",
       "        text-align: right;\n",
       "    }\n",
       "</style>\n",
       "<table border=\"1\" class=\"dataframe\">\n",
       "  <thead>\n",
       "    <tr style=\"text-align: right;\">\n",
       "      <th></th>\n",
       "      <th>Customer_Satisfaction</th>\n",
       "      <th>Product_Quality</th>\n",
       "      <th>Customer_Service</th>\n",
       "      <th>Price_Affordability</th>\n",
       "      <th>Brand_Trust</th>\n",
       "      <th>Recommend_To_Friends</th>\n",
       "    </tr>\n",
       "  </thead>\n",
       "  <tbody>\n",
       "    <tr>\n",
       "      <th>0</th>\n",
       "      <td>4</td>\n",
       "      <td>4</td>\n",
       "      <td>4</td>\n",
       "      <td>4</td>\n",
       "      <td>4</td>\n",
       "      <td>0</td>\n",
       "    </tr>\n",
       "    <tr>\n",
       "      <th>1</th>\n",
       "      <td>5</td>\n",
       "      <td>1</td>\n",
       "      <td>4</td>\n",
       "      <td>2</td>\n",
       "      <td>3</td>\n",
       "      <td>1</td>\n",
       "    </tr>\n",
       "    <tr>\n",
       "      <th>2</th>\n",
       "      <td>3</td>\n",
       "      <td>5</td>\n",
       "      <td>4</td>\n",
       "      <td>4</td>\n",
       "      <td>2</td>\n",
       "      <td>0</td>\n",
       "    </tr>\n",
       "    <tr>\n",
       "      <th>3</th>\n",
       "      <td>5</td>\n",
       "      <td>3</td>\n",
       "      <td>4</td>\n",
       "      <td>3</td>\n",
       "      <td>1</td>\n",
       "      <td>1</td>\n",
       "    </tr>\n",
       "    <tr>\n",
       "      <th>4</th>\n",
       "      <td>5</td>\n",
       "      <td>3</td>\n",
       "      <td>5</td>\n",
       "      <td>1</td>\n",
       "      <td>5</td>\n",
       "      <td>0</td>\n",
       "    </tr>\n",
       "  </tbody>\n",
       "</table>\n",
       "</div>"
      ],
      "text/plain": [
       "   Customer_Satisfaction  Product_Quality  Customer_Service  \\\n",
       "0                      4                4                 4   \n",
       "1                      5                1                 4   \n",
       "2                      3                5                 4   \n",
       "3                      5                3                 4   \n",
       "4                      5                3                 5   \n",
       "\n",
       "   Price_Affordability  Brand_Trust  Recommend_To_Friends  \n",
       "0                    4            4                     0  \n",
       "1                    2            3                     1  \n",
       "2                    4            2                     0  \n",
       "3                    3            1                     1  \n",
       "4                    1            5                     0  "
      ]
     },
     "execution_count": 7,
     "metadata": {},
     "output_type": "execute_result"
    }
   ],
   "source": [
    "df.head()"
   ]
  },
  {
   "cell_type": "code",
   "execution_count": 8,
   "metadata": {},
   "outputs": [
    {
     "data": {
      "text/html": [
       "<div>\n",
       "<style scoped>\n",
       "    .dataframe tbody tr th:only-of-type {\n",
       "        vertical-align: middle;\n",
       "    }\n",
       "\n",
       "    .dataframe tbody tr th {\n",
       "        vertical-align: top;\n",
       "    }\n",
       "\n",
       "    .dataframe thead th {\n",
       "        text-align: right;\n",
       "    }\n",
       "</style>\n",
       "<table border=\"1\" class=\"dataframe\">\n",
       "  <thead>\n",
       "    <tr style=\"text-align: right;\">\n",
       "      <th></th>\n",
       "      <th>Customer_Satisfaction</th>\n",
       "      <th>Product_Quality</th>\n",
       "      <th>Customer_Service</th>\n",
       "      <th>Price_Affordability</th>\n",
       "      <th>Brand_Trust</th>\n",
       "      <th>Recommend_To_Friends</th>\n",
       "    </tr>\n",
       "  </thead>\n",
       "  <tbody>\n",
       "    <tr>\n",
       "      <th>495</th>\n",
       "      <td>1</td>\n",
       "      <td>2</td>\n",
       "      <td>4</td>\n",
       "      <td>1</td>\n",
       "      <td>2</td>\n",
       "      <td>1</td>\n",
       "    </tr>\n",
       "    <tr>\n",
       "      <th>496</th>\n",
       "      <td>3</td>\n",
       "      <td>1</td>\n",
       "      <td>5</td>\n",
       "      <td>5</td>\n",
       "      <td>3</td>\n",
       "      <td>0</td>\n",
       "    </tr>\n",
       "    <tr>\n",
       "      <th>497</th>\n",
       "      <td>1</td>\n",
       "      <td>1</td>\n",
       "      <td>5</td>\n",
       "      <td>1</td>\n",
       "      <td>2</td>\n",
       "      <td>0</td>\n",
       "    </tr>\n",
       "    <tr>\n",
       "      <th>498</th>\n",
       "      <td>1</td>\n",
       "      <td>4</td>\n",
       "      <td>4</td>\n",
       "      <td>5</td>\n",
       "      <td>3</td>\n",
       "      <td>0</td>\n",
       "    </tr>\n",
       "    <tr>\n",
       "      <th>499</th>\n",
       "      <td>1</td>\n",
       "      <td>3</td>\n",
       "      <td>4</td>\n",
       "      <td>3</td>\n",
       "      <td>5</td>\n",
       "      <td>0</td>\n",
       "    </tr>\n",
       "  </tbody>\n",
       "</table>\n",
       "</div>"
      ],
      "text/plain": [
       "     Customer_Satisfaction  Product_Quality  Customer_Service  \\\n",
       "495                      1                2                 4   \n",
       "496                      3                1                 5   \n",
       "497                      1                1                 5   \n",
       "498                      1                4                 4   \n",
       "499                      1                3                 4   \n",
       "\n",
       "     Price_Affordability  Brand_Trust  Recommend_To_Friends  \n",
       "495                    1            2                     1  \n",
       "496                    5            3                     0  \n",
       "497                    1            2                     0  \n",
       "498                    5            3                     0  \n",
       "499                    3            5                     0  "
      ]
     },
     "execution_count": 8,
     "metadata": {},
     "output_type": "execute_result"
    }
   ],
   "source": [
    "df.tail()"
   ]
  },
  {
   "cell_type": "code",
   "execution_count": 9,
   "metadata": {},
   "outputs": [
    {
     "name": "stdout",
     "output_type": "stream",
     "text": [
      "<class 'pandas.core.frame.DataFrame'>\n",
      "RangeIndex: 500 entries, 0 to 499\n",
      "Data columns (total 6 columns):\n",
      " #   Column                 Non-Null Count  Dtype\n",
      "---  ------                 --------------  -----\n",
      " 0   Customer_Satisfaction  500 non-null    int64\n",
      " 1   Product_Quality        500 non-null    int64\n",
      " 2   Customer_Service       500 non-null    int64\n",
      " 3   Price_Affordability    500 non-null    int64\n",
      " 4   Brand_Trust            500 non-null    int64\n",
      " 5   Recommend_To_Friends   500 non-null    int64\n",
      "dtypes: int64(6)\n",
      "memory usage: 23.6 KB\n"
     ]
    }
   ],
   "source": [
    "df.info()"
   ]
  },
  {
   "cell_type": "code",
   "execution_count": 10,
   "metadata": {
    "id": "LfRcvpllyssM"
   },
   "outputs": [],
   "source": [
    "# Dropping missing values rows\n",
    "df.dropna(inplace=True)  # we drop because missing data cannot correlation matrix"
   ]
  },
  {
   "cell_type": "code",
   "execution_count": 11,
   "metadata": {
    "colab": {
     "base_uri": "https://localhost:8080/"
    },
    "executionInfo": {
     "elapsed": 504,
     "status": "ok",
     "timestamp": 1730887325988,
     "user": {
      "displayName": "Shirsat Saurabh Girish (PGDM 23-25)",
      "userId": "10365784960197800357"
     },
     "user_tz": -330
    },
    "id": "TOKkYSG3yssN",
    "outputId": "3974284b-320d-4b82-92be-df0b04d8100a"
   },
   "outputs": [
    {
     "name": "stdout",
     "output_type": "stream",
     "text": [
      "<class 'pandas.core.frame.DataFrame'>\n",
      "RangeIndex: 500 entries, 0 to 499\n",
      "Data columns (total 6 columns):\n",
      " #   Column                 Non-Null Count  Dtype\n",
      "---  ------                 --------------  -----\n",
      " 0   Customer_Satisfaction  500 non-null    int64\n",
      " 1   Product_Quality        500 non-null    int64\n",
      " 2   Customer_Service       500 non-null    int64\n",
      " 3   Price_Affordability    500 non-null    int64\n",
      " 4   Brand_Trust            500 non-null    int64\n",
      " 5   Recommend_To_Friends   500 non-null    int64\n",
      "dtypes: int64(6)\n",
      "memory usage: 23.6 KB\n"
     ]
    }
   ],
   "source": [
    "df.info()"
   ]
  },
  {
   "cell_type": "code",
   "execution_count": 12,
   "metadata": {},
   "outputs": [
    {
     "data": {
      "text/plain": [
       "Index(['Customer_Satisfaction', 'Product_Quality', 'Customer_Service',\n",
       "       'Price_Affordability', 'Brand_Trust', 'Recommend_To_Friends'],\n",
       "      dtype='object')"
      ]
     },
     "execution_count": 12,
     "metadata": {},
     "output_type": "execute_result"
    }
   ],
   "source": [
    "df.columns"
   ]
  },
  {
   "cell_type": "code",
   "execution_count": 14,
   "metadata": {
    "id": "i3z4qrOsyssP",
    "outputId": "2a5a50e0-7412-4ac7-912c-72987beb6447",
    "scrolled": true
   },
   "outputs": [
    {
     "data": {
      "text/plain": [
       "<Axes: >"
      ]
     },
     "execution_count": 14,
     "metadata": {},
     "output_type": "execute_result"
    },
    {
     "data": {
      "image/png": "[encoded data removed]",
      "text/plain": [
       "<Figure size 640x480 with 1 Axes>"
      ]
     },
     "metadata": {},
     "output_type": "display_data"
    }
   ],
   "source": [
    "df.boxplot(column=['Customer_Satisfaction', 'Product_Quality', 'Customer_Service',\n",
    "       'Price_Affordability', 'Brand_Trust', 'Recommend_To_Friends'])"
   ]
  },
  {
   "cell_type": "code",
   "execution_count": 14,
   "metadata": {},
   "outputs": [],
   "source": [
    "# del df['Proline']"
   ]
  },
  {
   "cell_type": "code",
   "execution_count": 15,
   "metadata": {
    "colab": {
     "base_uri": "https://localhost:8080/",
     "height": 255
    },
    "executionInfo": {
     "elapsed": 501,
     "status": "ok",
     "timestamp": 1730887350129,
     "user": {
      "displayName": "Shirsat Saurabh Girish (PGDM 23-25)",
      "userId": "10365784960197800357"
     },
     "user_tz": -330
    },
    "id": "EPjhBPG-yssR",
    "outputId": "50334dce-d54b-4fcf-9432-6e15e22f3fc0",
    "scrolled": true
   },
   "outputs": [
    {
     "data": {
      "text/html": [
       "<div>\n",
       "<style scoped>\n",
       "    .dataframe tbody tr th:only-of-type {\n",
       "        vertical-align: middle;\n",
       "    }\n",
       "\n",
       "    .dataframe tbody tr th {\n",
       "        vertical-align: top;\n",
       "    }\n",
       "\n",
       "    .dataframe thead th {\n",
       "        text-align: right;\n",
       "    }\n",
       "</style>\n",
       "<table border=\"1\" class=\"dataframe\">\n",
       "  <thead>\n",
       "    <tr style=\"text-align: right;\">\n",
       "      <th></th>\n",
       "      <th>Customer_Satisfaction</th>\n",
       "      <th>Product_Quality</th>\n",
       "      <th>Customer_Service</th>\n",
       "      <th>Price_Affordability</th>\n",
       "      <th>Brand_Trust</th>\n",
       "      <th>Recommend_To_Friends</th>\n",
       "    </tr>\n",
       "  </thead>\n",
       "  <tbody>\n",
       "    <tr>\n",
       "      <th>0</th>\n",
       "      <td>4</td>\n",
       "      <td>4</td>\n",
       "      <td>4</td>\n",
       "      <td>4</td>\n",
       "      <td>4</td>\n",
       "      <td>0</td>\n",
       "    </tr>\n",
       "    <tr>\n",
       "      <th>1</th>\n",
       "      <td>5</td>\n",
       "      <td>1</td>\n",
       "      <td>4</td>\n",
       "      <td>2</td>\n",
       "      <td>3</td>\n",
       "      <td>1</td>\n",
       "    </tr>\n",
       "    <tr>\n",
       "      <th>2</th>\n",
       "      <td>3</td>\n",
       "      <td>5</td>\n",
       "      <td>4</td>\n",
       "      <td>4</td>\n",
       "      <td>2</td>\n",
       "      <td>0</td>\n",
       "    </tr>\n",
       "    <tr>\n",
       "      <th>3</th>\n",
       "      <td>5</td>\n",
       "      <td>3</td>\n",
       "      <td>4</td>\n",
       "      <td>3</td>\n",
       "      <td>1</td>\n",
       "      <td>1</td>\n",
       "    </tr>\n",
       "    <tr>\n",
       "      <th>4</th>\n",
       "      <td>5</td>\n",
       "      <td>3</td>\n",
       "      <td>5</td>\n",
       "      <td>1</td>\n",
       "      <td>5</td>\n",
       "      <td>0</td>\n",
       "    </tr>\n",
       "  </tbody>\n",
       "</table>\n",
       "</div>"
      ],
      "text/plain": [
       "   Customer_Satisfaction  Product_Quality  Customer_Service  \\\n",
       "0                      4                4                 4   \n",
       "1                      5                1                 4   \n",
       "2                      3                5                 4   \n",
       "3                      5                3                 4   \n",
       "4                      5                3                 5   \n",
       "\n",
       "   Price_Affordability  Brand_Trust  Recommend_To_Friends  \n",
       "0                    4            4                     0  \n",
       "1                    2            3                     1  \n",
       "2                    4            2                     0  \n",
       "3                    3            1                     1  \n",
       "4                    1            5                     0  "
      ]
     },
     "execution_count": 15,
     "metadata": {},
     "output_type": "execute_result"
    }
   ],
   "source": [
    "df.head()"
   ]
  },
  {
   "cell_type": "markdown",
   "metadata": {
    "id": "LCqTcCIpyssS"
   },
   "source": [
    "# Bartlett Test\n",
    "\n",
    "* Ho: Correlation matrix is an identity matrix\n",
    "  *   v/s\n",
    "* H1:Correlation matrix is not an identity matrix"
   ]
  },
  {
   "cell_type": "code",
   "execution_count": 16,
   "metadata": {
    "colab": {
     "base_uri": "https://localhost:8080/",
     "height": 762
    },
    "executionInfo": {
     "elapsed": 518,
     "status": "ok",
     "timestamp": 1730887355754,
     "user": {
      "displayName": "Shirsat Saurabh Girish (PGDM 23-25)",
      "userId": "10365784960197800357"
     },
     "user_tz": -330
    },
    "id": "b2kNapjqyssS",
    "outputId": "a20514e9-3218-4943-eb27-58bcad69eb5a"
   },
   "outputs": [
    {
     "name": "stderr",
     "output_type": "stream",
     "text": [
      "C:\\Users\\shrey\\AppData\\Local\\Temp\\ipykernel_13784\\1573199226.py:2: FutureWarning: Styler.applymap has been deprecated. Use Styler.map instead.\n",
      "  Correlation.style.applymap(lambda x: 'background-color : skyblue' if x >= 0.7 else '')\n"
     ]
    },
    {
     "data": {
      "text/html": [
       "<style type=\"text/css\">\n",
       "#T_40725_row0_col0, #T_40725_row1_col1, #T_40725_row2_col2, #T_40725_row3_col3, #T_40725_row4_col4, #T_40725_row5_col5 {\n",
       "  background-color: skyblue;\n",
       "}\n",
       "</style>\n",
       "<table id=\"T_40725\">\n",
       "  <thead>\n",
       "    <tr>\n",
       "      <th class=\"blank level0\" >&nbsp;</th>\n",
       "      <th id=\"T_40725_level0_col0\" class=\"col_heading level0 col0\" >Customer_Satisfaction</th>\n",
       "      <th id=\"T_40725_level0_col1\" class=\"col_heading level0 col1\" >Product_Quality</th>\n",
       "      <th id=\"T_40725_level0_col2\" class=\"col_heading level0 col2\" >Customer_Service</th>\n",
       "      <th id=\"T_40725_level0_col3\" class=\"col_heading level0 col3\" >Price_Affordability</th>\n",
       "      <th id=\"T_40725_level0_col4\" class=\"col_heading level0 col4\" >Brand_Trust</th>\n",
       "      <th id=\"T_40725_level0_col5\" class=\"col_heading level0 col5\" >Recommend_To_Friends</th>\n",
       "    </tr>\n",
       "  </thead>\n",
       "  <tbody>\n",
       "    <tr>\n",
       "      <th id=\"T_40725_level0_row0\" class=\"row_heading level0 row0\" >Customer_Satisfaction</th>\n",
       "      <td id=\"T_40725_row0_col0\" class=\"data row0 col0\" >1.000000</td>\n",
       "      <td id=\"T_40725_row0_col1\" class=\"data row0 col1\" >0.016160</td>\n",
       "      <td id=\"T_40725_row0_col2\" class=\"data row0 col2\" >0.006187</td>\n",
       "      <td id=\"T_40725_row0_col3\" class=\"data row0 col3\" >-0.013835</td>\n",
       "      <td id=\"T_40725_row0_col4\" class=\"data row0 col4\" >-0.029264</td>\n",
       "      <td id=\"T_40725_row0_col5\" class=\"data row0 col5\" >0.056025</td>\n",
       "    </tr>\n",
       "    <tr>\n",
       "      <th id=\"T_40725_level0_row1\" class=\"row_heading level0 row1\" >Product_Quality</th>\n",
       "      <td id=\"T_40725_row1_col0\" class=\"data row1 col0\" >0.016160</td>\n",
       "      <td id=\"T_40725_row1_col1\" class=\"data row1 col1\" >1.000000</td>\n",
       "      <td id=\"T_40725_row1_col2\" class=\"data row1 col2\" >-0.061955</td>\n",
       "      <td id=\"T_40725_row1_col3\" class=\"data row1 col3\" >-0.033354</td>\n",
       "      <td id=\"T_40725_row1_col4\" class=\"data row1 col4\" >-0.084803</td>\n",
       "      <td id=\"T_40725_row1_col5\" class=\"data row1 col5\" >-0.022352</td>\n",
       "    </tr>\n",
       "    <tr>\n",
       "      <th id=\"T_40725_level0_row2\" class=\"row_heading level0 row2\" >Customer_Service</th>\n",
       "      <td id=\"T_40725_row2_col0\" class=\"data row2 col0\" >0.006187</td>\n",
       "      <td id=\"T_40725_row2_col1\" class=\"data row2 col1\" >-0.061955</td>\n",
       "      <td id=\"T_40725_row2_col2\" class=\"data row2 col2\" >1.000000</td>\n",
       "      <td id=\"T_40725_row2_col3\" class=\"data row2 col3\" >-0.020547</td>\n",
       "      <td id=\"T_40725_row2_col4\" class=\"data row2 col4\" >0.031325</td>\n",
       "      <td id=\"T_40725_row2_col5\" class=\"data row2 col5\" >0.029560</td>\n",
       "    </tr>\n",
       "    <tr>\n",
       "      <th id=\"T_40725_level0_row3\" class=\"row_heading level0 row3\" >Price_Affordability</th>\n",
       "      <td id=\"T_40725_row3_col0\" class=\"data row3 col0\" >-0.013835</td>\n",
       "      <td id=\"T_40725_row3_col1\" class=\"data row3 col1\" >-0.033354</td>\n",
       "      <td id=\"T_40725_row3_col2\" class=\"data row3 col2\" >-0.020547</td>\n",
       "      <td id=\"T_40725_row3_col3\" class=\"data row3 col3\" >1.000000</td>\n",
       "      <td id=\"T_40725_row3_col4\" class=\"data row3 col4\" >0.078330</td>\n",
       "      <td id=\"T_40725_row3_col5\" class=\"data row3 col5\" >0.018289</td>\n",
       "    </tr>\n",
       "    <tr>\n",
       "      <th id=\"T_40725_level0_row4\" class=\"row_heading level0 row4\" >Brand_Trust</th>\n",
       "      <td id=\"T_40725_row4_col0\" class=\"data row4 col0\" >-0.029264</td>\n",
       "      <td id=\"T_40725_row4_col1\" class=\"data row4 col1\" >-0.084803</td>\n",
       "      <td id=\"T_40725_row4_col2\" class=\"data row4 col2\" >0.031325</td>\n",
       "      <td id=\"T_40725_row4_col3\" class=\"data row4 col3\" >0.078330</td>\n",
       "      <td id=\"T_40725_row4_col4\" class=\"data row4 col4\" >1.000000</td>\n",
       "      <td id=\"T_40725_row4_col5\" class=\"data row4 col5\" >0.002007</td>\n",
       "    </tr>\n",
       "    <tr>\n",
       "      <th id=\"T_40725_level0_row5\" class=\"row_heading level0 row5\" >Recommend_To_Friends</th>\n",
       "      <td id=\"T_40725_row5_col0\" class=\"data row5 col0\" >0.056025</td>\n",
       "      <td id=\"T_40725_row5_col1\" class=\"data row5 col1\" >-0.022352</td>\n",
       "      <td id=\"T_40725_row5_col2\" class=\"data row5 col2\" >0.029560</td>\n",
       "      <td id=\"T_40725_row5_col3\" class=\"data row5 col3\" >0.018289</td>\n",
       "      <td id=\"T_40725_row5_col4\" class=\"data row5 col4\" >0.002007</td>\n",
       "      <td id=\"T_40725_row5_col5\" class=\"data row5 col5\" >1.000000</td>\n",
       "    </tr>\n",
       "  </tbody>\n",
       "</table>\n"
      ],
      "text/plain": [
       "<pandas.io.formats.style.Styler at 0x251da9768d0>"
      ]
     },
     "execution_count": 16,
     "metadata": {},
     "output_type": "execute_result"
    }
   ],
   "source": [
    "Correlation = df.corr()\n",
    "Correlation.style.applymap(lambda x: 'background-color : skyblue' if x >= 0.7 else '')"
   ]
  },
  {
   "cell_type": "code",
   "execution_count": 17,
   "metadata": {
    "id": "4w3caC5eyssT",
    "outputId": "eb864777-d7b8-40e8-ef5e-b4d442b8aa22",
    "scrolled": true
   },
   "outputs": [
    {
     "data": {
      "text/plain": [
       "(12.550684900113993, 0.6369587919887623)"
      ]
     },
     "execution_count": 17,
     "metadata": {},
     "output_type": "execute_result"
    }
   ],
   "source": [
    "from factor_analyzer.factor_analyzer import calculate_bartlett_sphericity\n",
    "chi_square_value,p_value=calculate_bartlett_sphericity(df)\n",
    "chi_square_value, p_value  ## alpha = 0.05"
   ]
  },
  {
   "cell_type": "markdown",
   "metadata": {
    "id": "jtgA-iYfyssV"
   },
   "source": [
    "# Kaiser-Meyer-Olkin (KMO) Test\n",
    "\n",
    "* measures the suitability of data for factor analysis.\n",
    "* It determines the adequacy for each observed variable and for the complete model.\n",
    "* KMO estimates the proportion of variance among all the observed variable.\n",
    "* KMO values range between 0 and 1. Value of KMO less than 0.5 is considered inadequate."
   ]
  },
  {
   "cell_type": "code",
   "execution_count": 18,
   "metadata": {
    "id": "xPXIf-L3yssV",
    "outputId": "98495ef8-902e-45f3-a1c5-d1f8d3c4e82d"
   },
   "outputs": [
    {
     "data": {
      "text/plain": [
       "0.5197062003663986"
      ]
     },
     "execution_count": 18,
     "metadata": {},
     "output_type": "execute_result"
    }
   ],
   "source": [
    "from factor_analyzer.factor_analyzer import calculate_kmo\n",
    "kmo_all,kmo_model=calculate_kmo(df)\n",
    "kmo_model"
   ]
  },
  {
   "cell_type": "markdown",
   "metadata": {
    "id": "M5DDbmROyssW"
   },
   "source": [
    "The overall KMO for our data is 0.51"
   ]
  },
  {
   "cell_type": "markdown",
   "metadata": {
    "id": "M4kJDuzIyssX"
   },
   "source": [
    "# Choosing the Number of Factors\n",
    "\n",
    "* For choosing the number of factors, you can use the Kaiser criterion and scree plot. Both are based on eigenvalues."
   ]
  },
  {
   "cell_type": "code",
   "execution_count": 19,
   "metadata": {
    "id": "XpADFzokyssX",
    "outputId": "a841b2ed-be9c-4263-cb5e-41df22f3b4bc"
   },
   "outputs": [
    {
     "data": {
      "text/plain": [
       "array([1.15722406, 1.07078824, 1.02153786, 0.93625176, 0.91803997,\n",
       "       0.8961581 ])"
      ]
     },
     "execution_count": 19,
     "metadata": {},
     "output_type": "execute_result"
    }
   ],
   "source": [
    "#Create factor analysis object and perform factor analysis\n",
    "fa = FactorAnalyzer(rotation='varimax',method=\"principal\")\n",
    "fa.fit(df)\n",
    "# Check Eigenvalues\n",
    "eigen_values, vectors = fa.get_eigenvalues()\n",
    "eigen_values"
   ]
  },
  {
   "cell_type": "code",
   "execution_count": 24,
   "metadata": {
    "id": "0440nppZyssY",
    "outputId": "30d783df-5236-449b-f406-f0df16cd11ca"
   },
   "outputs": [
    {
     "data": {
      "text/html": [
       "<div>\n",
       "<style scoped>\n",
       "    .dataframe tbody tr th:only-of-type {\n",
       "        vertical-align: middle;\n",
       "    }\n",
       "\n",
       "    .dataframe tbody tr th {\n",
       "        vertical-align: top;\n",
       "    }\n",
       "\n",
       "    .dataframe thead th {\n",
       "        text-align: right;\n",
       "    }\n",
       "</style>\n",
       "<table border=\"1\" class=\"dataframe\">\n",
       "  <thead>\n",
       "    <tr style=\"text-align: right;\">\n",
       "      <th></th>\n",
       "      <th>Eigen_Values</th>\n",
       "      <th>Factor</th>\n",
       "    </tr>\n",
       "  </thead>\n",
       "  <tbody>\n",
       "    <tr>\n",
       "      <th>0</th>\n",
       "      <td>1.157224</td>\n",
       "      <td>1</td>\n",
       "    </tr>\n",
       "    <tr>\n",
       "      <th>1</th>\n",
       "      <td>1.070788</td>\n",
       "      <td>2</td>\n",
       "    </tr>\n",
       "    <tr>\n",
       "      <th>2</th>\n",
       "      <td>1.021538</td>\n",
       "      <td>3</td>\n",
       "    </tr>\n",
       "    <tr>\n",
       "      <th>3</th>\n",
       "      <td>0.936252</td>\n",
       "      <td>4</td>\n",
       "    </tr>\n",
       "    <tr>\n",
       "      <th>4</th>\n",
       "      <td>0.918040</td>\n",
       "      <td>5</td>\n",
       "    </tr>\n",
       "  </tbody>\n",
       "</table>\n",
       "</div>"
      ],
      "text/plain": [
       "   Eigen_Values  Factor\n",
       "0      1.157224       1\n",
       "1      1.070788       2\n",
       "2      1.021538       3\n",
       "3      0.936252       4\n",
       "4      0.918040       5"
      ]
     },
     "execution_count": 24,
     "metadata": {},
     "output_type": "execute_result"
    }
   ],
   "source": [
    "dd=pd.DataFrame(eigen_values,columns=[\"Eigen_Values\"])\n",
    "dd['Factor'] = [1,2,3,4,5,6]\n",
    "dd.head()"
   ]
  },
  {
   "cell_type": "code",
   "execution_count": 25,
   "metadata": {
    "id": "Gm7h6tiLyssZ",
    "outputId": "770df226-4a9f-4b7b-f8cc-f8c55262217b"
   },
   "outputs": [
    {
     "data": {
      "image/png": "[encoded data removed]",
      "text/plain": [
       "<Figure size 640x480 with 1 Axes>"
      ]
     },
     "metadata": {},
     "output_type": "display_data"
    }
   ],
   "source": [
    "import matplotlib.pyplot as plt\n",
    "\n",
    "plt.plot( 'Factor', 'Eigen_Values', data=dd, linestyle='-', marker='o')\n",
    "plt.xlabel(\"Nunber of factor\")\n",
    "plt.ylabel(\"Eigen Values\")\n",
    "plt.title(\"Scree Plot\")\n",
    "plt.show()\n"
   ]
  },
  {
   "cell_type": "markdown",
   "metadata": {
    "id": "qBsiUFphyssa"
   },
   "source": [
    "# Performing Factor Analysis\n"
   ]
  },
  {
   "cell_type": "code",
   "execution_count": 26,
   "metadata": {
    "id": "Hsx4o-MJyssa"
   },
   "outputs": [],
   "source": [
    "# Create factor analysis object and perform factor analysis\n",
    "aa=FactorAnalyzer(n_factors=3,rotation='varimax',method=\"principal\")"
   ]
  },
  {
   "cell_type": "code",
   "execution_count": 27,
   "metadata": {
    "id": "ECWrqhHpyssb",
    "outputId": "bf622099-87cc-4b4f-ef13-de7c322d52af"
   },
   "outputs": [],
   "source": [
    "model=aa.fit(df)"
   ]
  },
  {
   "cell_type": "markdown",
   "metadata": {
    "id": "vllu9rDpyssc"
   },
   "source": [
    "# Correlation Matrix"
   ]
  },
  {
   "cell_type": "code",
   "execution_count": 28,
   "metadata": {
    "id": "lv-Gmecnyssc",
    "outputId": "cf4ebdd4-3cd3-4efb-efe1-4c7df99b1970"
   },
   "outputs": [
    {
     "data": {
      "text/plain": [
       "['Customer_Satisfaction',\n",
       " 'Product_Quality',\n",
       " 'Customer_Service',\n",
       " 'Price_Affordability',\n",
       " 'Brand_Trust',\n",
       " 'Recommend_To_Friends']"
      ]
     },
     "execution_count": 28,
     "metadata": {},
     "output_type": "execute_result"
    }
   ],
   "source": [
    "data_loading=df.columns.to_list()\n",
    "data_loading"
   ]
  },
  {
   "cell_type": "code",
   "execution_count": 29,
   "metadata": {
    "id": "LU6CQjc4yssd",
    "outputId": "4063d887-04b9-43d9-c5fe-bc31f7aa29c9"
   },
   "outputs": [
    {
     "name": "stderr",
     "output_type": "stream",
     "text": [
      "C:\\Users\\shrey\\AppData\\Local\\Temp\\ipykernel_13784\\2766881903.py:3: FutureWarning: Styler.applymap has been deprecated. Use Styler.map instead.\n",
      "  Correlation.style.applymap(lambda x: 'background-color : cyan' if x >= 0.7 else '')\n"
     ]
    },
    {
     "data": {
      "text/html": [
       "<style type=\"text/css\">\n",
       "#T_7ff46_row0_col0, #T_7ff46_row1_col1, #T_7ff46_row2_col2, #T_7ff46_row3_col3, #T_7ff46_row4_col4, #T_7ff46_row5_col5 {\n",
       "  background-color: cyan;\n",
       "}\n",
       "</style>\n",
       "<table id=\"T_7ff46\">\n",
       "  <thead>\n",
       "    <tr>\n",
       "      <th class=\"blank level0\" >&nbsp;</th>\n",
       "      <th id=\"T_7ff46_level0_col0\" class=\"col_heading level0 col0\" >Customer_Satisfaction</th>\n",
       "      <th id=\"T_7ff46_level0_col1\" class=\"col_heading level0 col1\" >Product_Quality</th>\n",
       "      <th id=\"T_7ff46_level0_col2\" class=\"col_heading level0 col2\" >Customer_Service</th>\n",
       "      <th id=\"T_7ff46_level0_col3\" class=\"col_heading level0 col3\" >Price_Affordability</th>\n",
       "      <th id=\"T_7ff46_level0_col4\" class=\"col_heading level0 col4\" >Brand_Trust</th>\n",
       "      <th id=\"T_7ff46_level0_col5\" class=\"col_heading level0 col5\" >Recommend_To_Friends</th>\n",
       "    </tr>\n",
       "  </thead>\n",
       "  <tbody>\n",
       "    <tr>\n",
       "      <th id=\"T_7ff46_level0_row0\" class=\"row_heading level0 row0\" >Customer_Satisfaction</th>\n",
       "      <td id=\"T_7ff46_row0_col0\" class=\"data row0 col0\" >1.000000</td>\n",
       "      <td id=\"T_7ff46_row0_col1\" class=\"data row0 col1\" >0.016160</td>\n",
       "      <td id=\"T_7ff46_row0_col2\" class=\"data row0 col2\" >0.006187</td>\n",
       "      <td id=\"T_7ff46_row0_col3\" class=\"data row0 col3\" >-0.013835</td>\n",
       "      <td id=\"T_7ff46_row0_col4\" class=\"data row0 col4\" >-0.029264</td>\n",
       "      <td id=\"T_7ff46_row0_col5\" class=\"data row0 col5\" >0.056025</td>\n",
       "    </tr>\n",
       "    <tr>\n",
       "      <th id=\"T_7ff46_level0_row1\" class=\"row_heading level0 row1\" >Product_Quality</th>\n",
       "      <td id=\"T_7ff46_row1_col0\" class=\"data row1 col0\" >0.016160</td>\n",
       "      <td id=\"T_7ff46_row1_col1\" class=\"data row1 col1\" >1.000000</td>\n",
       "      <td id=\"T_7ff46_row1_col2\" class=\"data row1 col2\" >-0.061955</td>\n",
       "      <td id=\"T_7ff46_row1_col3\" class=\"data row1 col3\" >-0.033354</td>\n",
       "      <td id=\"T_7ff46_row1_col4\" class=\"data row1 col4\" >-0.084803</td>\n",
       "      <td id=\"T_7ff46_row1_col5\" class=\"data row1 col5\" >-0.022352</td>\n",
       "    </tr>\n",
       "    <tr>\n",
       "      <th id=\"T_7ff46_level0_row2\" class=\"row_heading level0 row2\" >Customer_Service</th>\n",
       "      <td id=\"T_7ff46_row2_col0\" class=\"data row2 col0\" >0.006187</td>\n",
       "      <td id=\"T_7ff46_row2_col1\" class=\"data row2 col1\" >-0.061955</td>\n",
       "      <td id=\"T_7ff46_row2_col2\" class=\"data row2 col2\" >1.000000</td>\n",
       "      <td id=\"T_7ff46_row2_col3\" class=\"data row2 col3\" >-0.020547</td>\n",
       "      <td id=\"T_7ff46_row2_col4\" class=\"data row2 col4\" >0.031325</td>\n",
       "      <td id=\"T_7ff46_row2_col5\" class=\"data row2 col5\" >0.029560</td>\n",
       "    </tr>\n",
       "    <tr>\n",
       "      <th id=\"T_7ff46_level0_row3\" class=\"row_heading level0 row3\" >Price_Affordability</th>\n",
       "      <td id=\"T_7ff46_row3_col0\" class=\"data row3 col0\" >-0.013835</td>\n",
       "      <td id=\"T_7ff46_row3_col1\" class=\"data row3 col1\" >-0.033354</td>\n",
       "      <td id=\"T_7ff46_row3_col2\" class=\"data row3 col2\" >-0.020547</td>\n",
       "      <td id=\"T_7ff46_row3_col3\" class=\"data row3 col3\" >1.000000</td>\n",
       "      <td id=\"T_7ff46_row3_col4\" class=\"data row3 col4\" >0.078330</td>\n",
       "      <td id=\"T_7ff46_row3_col5\" class=\"data row3 col5\" >0.018289</td>\n",
       "    </tr>\n",
       "    <tr>\n",
       "      <th id=\"T_7ff46_level0_row4\" class=\"row_heading level0 row4\" >Brand_Trust</th>\n",
       "      <td id=\"T_7ff46_row4_col0\" class=\"data row4 col0\" >-0.029264</td>\n",
       "      <td id=\"T_7ff46_row4_col1\" class=\"data row4 col1\" >-0.084803</td>\n",
       "      <td id=\"T_7ff46_row4_col2\" class=\"data row4 col2\" >0.031325</td>\n",
       "      <td id=\"T_7ff46_row4_col3\" class=\"data row4 col3\" >0.078330</td>\n",
       "      <td id=\"T_7ff46_row4_col4\" class=\"data row4 col4\" >1.000000</td>\n",
       "      <td id=\"T_7ff46_row4_col5\" class=\"data row4 col5\" >0.002007</td>\n",
       "    </tr>\n",
       "    <tr>\n",
       "      <th id=\"T_7ff46_level0_row5\" class=\"row_heading level0 row5\" >Recommend_To_Friends</th>\n",
       "      <td id=\"T_7ff46_row5_col0\" class=\"data row5 col0\" >0.056025</td>\n",
       "      <td id=\"T_7ff46_row5_col1\" class=\"data row5 col1\" >-0.022352</td>\n",
       "      <td id=\"T_7ff46_row5_col2\" class=\"data row5 col2\" >0.029560</td>\n",
       "      <td id=\"T_7ff46_row5_col3\" class=\"data row5 col3\" >0.018289</td>\n",
       "      <td id=\"T_7ff46_row5_col4\" class=\"data row5 col4\" >0.002007</td>\n",
       "      <td id=\"T_7ff46_row5_col5\" class=\"data row5 col5\" >1.000000</td>\n",
       "    </tr>\n",
       "  </tbody>\n",
       "</table>\n"
      ],
      "text/plain": [
       "<pandas.io.formats.style.Styler at 0x251e1f5a1d0>"
      ]
     },
     "execution_count": 29,
     "metadata": {},
     "output_type": "execute_result"
    }
   ],
   "source": [
    "Correlation=pd.DataFrame(model.corr_,index=data_loading,columns=data_loading)\n",
    "#round(Correlation,3)\n",
    "Correlation.style.applymap(lambda x: 'background-color : cyan' if x >= 0.7 else '')"
   ]
  },
  {
   "cell_type": "markdown",
   "metadata": {
    "id": "NJ5y7UIxyssd"
   },
   "source": [
    "# Factor Loading Matrix\n",
    "\n",
    "* value in matix is called loading"
   ]
  },
  {
   "cell_type": "code",
   "execution_count": 30,
   "metadata": {
    "id": "aXUhTY6lysse"
   },
   "outputs": [],
   "source": [
    "factor=[\"Factor1 (Z1) \",\"Factor2 (Z2)\",\"Factor3 (Z3)\"]  # array"
   ]
  },
  {
   "cell_type": "code",
   "execution_count": 31,
   "metadata": {
    "id": "7gTLuiDoysse",
    "outputId": "db8284dd-d6ef-4ef0-f498-f81eab1c9751"
   },
   "outputs": [
    {
     "name": "stderr",
     "output_type": "stream",
     "text": [
      "C:\\Users\\shrey\\AppData\\Local\\Temp\\ipykernel_13784\\3718995887.py:3: FutureWarning: Styler.applymap has been deprecated. Use Styler.map instead.\n",
      "  loading.style.applymap(lambda x: 'background-color : skyblue' if x > 0.5 else '')\n"
     ]
    },
    {
     "data": {
      "text/html": [
       "<style type=\"text/css\">\n",
       "#T_b9bbe_row0_col1, #T_b9bbe_row1_col2, #T_b9bbe_row2_col2, #T_b9bbe_row3_col0, #T_b9bbe_row4_col0, #T_b9bbe_row5_col1 {\n",
       "  background-color: skyblue;\n",
       "}\n",
       "</style>\n",
       "<table id=\"T_b9bbe\">\n",
       "  <thead>\n",
       "    <tr>\n",
       "      <th class=\"blank level0\" >&nbsp;</th>\n",
       "      <th id=\"T_b9bbe_level0_col0\" class=\"col_heading level0 col0\" >Factor1 (Z1) </th>\n",
       "      <th id=\"T_b9bbe_level0_col1\" class=\"col_heading level0 col1\" >Factor2 (Z2)</th>\n",
       "      <th id=\"T_b9bbe_level0_col2\" class=\"col_heading level0 col2\" >Factor3 (Z3)</th>\n",
       "    </tr>\n",
       "  </thead>\n",
       "  <tbody>\n",
       "    <tr>\n",
       "      <th id=\"T_b9bbe_level0_row0\" class=\"row_heading level0 row0\" >Customer_Satisfaction</th>\n",
       "      <td id=\"T_b9bbe_row0_col0\" class=\"data row0 col0\" >0.116358</td>\n",
       "      <td id=\"T_b9bbe_row0_col1\" class=\"data row0 col1\" >0.713886</td>\n",
       "      <td id=\"T_b9bbe_row0_col2\" class=\"data row0 col2\" >0.083843</td>\n",
       "    </tr>\n",
       "    <tr>\n",
       "      <th id=\"T_b9bbe_level0_row1\" class=\"row_heading level0 row1\" >Product_Quality</th>\n",
       "      <td id=\"T_b9bbe_row1_col0\" class=\"data row1 col0\" >0.289623</td>\n",
       "      <td id=\"T_b9bbe_row1_col1\" class=\"data row1 col1\" >0.025302</td>\n",
       "      <td id=\"T_b9bbe_row1_col2\" class=\"data row1 col2\" >0.600552</td>\n",
       "    </tr>\n",
       "    <tr>\n",
       "      <th id=\"T_b9bbe_level0_row2\" class=\"row_heading level0 row2\" >Customer_Service</th>\n",
       "      <td id=\"T_b9bbe_row2_col0\" class=\"data row2 col0\" >0.217588</td>\n",
       "      <td id=\"T_b9bbe_row2_col1\" class=\"data row2 col1\" >0.074777</td>\n",
       "      <td id=\"T_b9bbe_row2_col2\" class=\"data row2 col2\" >0.757506</td>\n",
       "    </tr>\n",
       "    <tr>\n",
       "      <th id=\"T_b9bbe_level0_row3\" class=\"row_heading level0 row3\" >Price_Affordability</th>\n",
       "      <td id=\"T_b9bbe_row3_col0\" class=\"data row3 col0\" >0.766802</td>\n",
       "      <td id=\"T_b9bbe_row3_col1\" class=\"data row3 col1\" >0.100540</td>\n",
       "      <td id=\"T_b9bbe_row3_col2\" class=\"data row3 col2\" >0.198144</td>\n",
       "    </tr>\n",
       "    <tr>\n",
       "      <th id=\"T_b9bbe_level0_row4\" class=\"row_heading level0 row4\" >Brand_Trust</th>\n",
       "      <td id=\"T_b9bbe_row4_col0\" class=\"data row4 col0\" >0.596636</td>\n",
       "      <td id=\"T_b9bbe_row4_col1\" class=\"data row4 col1\" >0.115393</td>\n",
       "      <td id=\"T_b9bbe_row4_col2\" class=\"data row4 col2\" >0.303253</td>\n",
       "    </tr>\n",
       "    <tr>\n",
       "      <th id=\"T_b9bbe_level0_row5\" class=\"row_heading level0 row5\" >Recommend_To_Friends</th>\n",
       "      <td id=\"T_b9bbe_row5_col0\" class=\"data row5 col0\" >0.115989</td>\n",
       "      <td id=\"T_b9bbe_row5_col1\" class=\"data row5 col1\" >0.721536</td>\n",
       "      <td id=\"T_b9bbe_row5_col2\" class=\"data row5 col2\" >0.121401</td>\n",
       "    </tr>\n",
       "  </tbody>\n",
       "</table>\n"
      ],
      "text/plain": [
       "<pandas.io.formats.style.Styler at 0x251d9fede50>"
      ]
     },
     "execution_count": 31,
     "metadata": {},
     "output_type": "execute_result"
    }
   ],
   "source": [
    "loading=pd.DataFrame(model.loadings_,columns=factor,index=data_loading)\n",
    "loading=loading.abs()\n",
    "loading.style.applymap(lambda x: 'background-color : skyblue' if x > 0.5 else '')"
   ]
  },
  {
   "cell_type": "markdown",
   "metadata": {
    "id": "NP857rvwyssg"
   },
   "source": [
    "# Eigen values"
   ]
  },
  {
   "cell_type": "code",
   "execution_count": 32,
   "metadata": {
    "id": "uqOIuolwyssg"
   },
   "outputs": [],
   "source": [
    "header=[\"Eigen_Value\",\"Perentage of Variance Explained\",\"Cumulative Perentage of Variance Explained\"]"
   ]
  },
  {
   "cell_type": "code",
   "execution_count": 33,
   "metadata": {
    "id": "0N2uLc_6yssh",
    "outputId": "399a38cc-dee7-4059-d2d5-2d08cafed207"
   },
   "outputs": [
    {
     "data": {
      "text/html": [
       "<div>\n",
       "<style scoped>\n",
       "    .dataframe tbody tr th:only-of-type {\n",
       "        vertical-align: middle;\n",
       "    }\n",
       "\n",
       "    .dataframe tbody tr th {\n",
       "        vertical-align: top;\n",
       "    }\n",
       "\n",
       "    .dataframe thead th {\n",
       "        text-align: right;\n",
       "    }\n",
       "</style>\n",
       "<table border=\"1\" class=\"dataframe\">\n",
       "  <thead>\n",
       "    <tr style=\"text-align: right;\">\n",
       "      <th></th>\n",
       "      <th>Factor1 (Z1)</th>\n",
       "      <th>Factor2 (Z2)</th>\n",
       "      <th>Factor3 (Z3)</th>\n",
       "    </tr>\n",
       "  </thead>\n",
       "  <tbody>\n",
       "    <tr>\n",
       "      <th>Eigen_Value</th>\n",
       "      <td>1.102178</td>\n",
       "      <td>1.059904</td>\n",
       "      <td>1.087468</td>\n",
       "    </tr>\n",
       "    <tr>\n",
       "      <th>Perentage of Variance Explained</th>\n",
       "      <td>0.183696</td>\n",
       "      <td>0.176651</td>\n",
       "      <td>0.181245</td>\n",
       "    </tr>\n",
       "    <tr>\n",
       "      <th>Cumulative Perentage of Variance Explained</th>\n",
       "      <td>0.183696</td>\n",
       "      <td>0.360347</td>\n",
       "      <td>0.541592</td>\n",
       "    </tr>\n",
       "  </tbody>\n",
       "</table>\n",
       "</div>"
      ],
      "text/plain": [
       "                                            Factor1 (Z1)   Factor2 (Z2)  \\\n",
       "Eigen_Value                                      1.102178      1.059904   \n",
       "Perentage of Variance Explained                  0.183696      0.176651   \n",
       "Cumulative Perentage of Variance Explained       0.183696      0.360347   \n",
       "\n",
       "                                            Factor3 (Z3)  \n",
       "Eigen_Value                                     1.087468  \n",
       "Perentage of Variance Explained                 0.181245  \n",
       "Cumulative Perentage of Variance Explained      0.541592  "
      ]
     },
     "execution_count": 33,
     "metadata": {},
     "output_type": "execute_result"
    }
   ],
   "source": [
    "variance_Explained=pd.DataFrame(model.get_factor_variance(),columns=factor,index=header)\n",
    "variance_Explained"
   ]
  },
  {
   "cell_type": "markdown",
   "metadata": {
    "id": "gYQMygPsyssi"
   },
   "source": [
    "# Communalities & Uniqueness"
   ]
  },
  {
   "cell_type": "code",
   "execution_count": 34,
   "metadata": {
    "id": "1BGrh7KUyssn",
    "outputId": "e5814cbd-767e-4371-d941-a4a1a5f76751"
   },
   "outputs": [
    {
     "data": {
      "text/html": [
       "<div>\n",
       "<style scoped>\n",
       "    .dataframe tbody tr th:only-of-type {\n",
       "        vertical-align: middle;\n",
       "    }\n",
       "\n",
       "    .dataframe tbody tr th {\n",
       "        vertical-align: top;\n",
       "    }\n",
       "\n",
       "    .dataframe thead th {\n",
       "        text-align: right;\n",
       "    }\n",
       "</style>\n",
       "<table border=\"1\" class=\"dataframe\">\n",
       "  <thead>\n",
       "    <tr style=\"text-align: right;\">\n",
       "      <th></th>\n",
       "      <th>communalities</th>\n",
       "      <th>uniqueness</th>\n",
       "    </tr>\n",
       "  </thead>\n",
       "  <tbody>\n",
       "    <tr>\n",
       "      <th>Customer_Satisfaction</th>\n",
       "      <td>0.53</td>\n",
       "      <td>0.47</td>\n",
       "    </tr>\n",
       "    <tr>\n",
       "      <th>Product_Quality</th>\n",
       "      <td>0.45</td>\n",
       "      <td>0.55</td>\n",
       "    </tr>\n",
       "    <tr>\n",
       "      <th>Customer_Service</th>\n",
       "      <td>0.63</td>\n",
       "      <td>0.37</td>\n",
       "    </tr>\n",
       "    <tr>\n",
       "      <th>Price_Affordability</th>\n",
       "      <td>0.64</td>\n",
       "      <td>0.36</td>\n",
       "    </tr>\n",
       "    <tr>\n",
       "      <th>Brand_Trust</th>\n",
       "      <td>0.46</td>\n",
       "      <td>0.54</td>\n",
       "    </tr>\n",
       "    <tr>\n",
       "      <th>Recommend_To_Friends</th>\n",
       "      <td>0.55</td>\n",
       "      <td>0.45</td>\n",
       "    </tr>\n",
       "  </tbody>\n",
       "</table>\n",
       "</div>"
      ],
      "text/plain": [
       "                       communalities  uniqueness\n",
       "Customer_Satisfaction           0.53        0.47\n",
       "Product_Quality                 0.45        0.55\n",
       "Customer_Service                0.63        0.37\n",
       "Price_Affordability             0.64        0.36\n",
       "Brand_Trust                     0.46        0.54\n",
       "Recommend_To_Friends            0.55        0.45"
      ]
     },
     "execution_count": 34,
     "metadata": {},
     "output_type": "execute_result"
    }
   ],
   "source": [
    "communalities=pd.DataFrame(model.get_communalities(),columns=[\"communalities\"],index=data_loading)\n",
    "communalities ['uniqueness']= model.get_uniquenesses()\n",
    "round(communalities,2)"
   ]
  },
  {
   "cell_type": "markdown",
   "metadata": {
    "id": "BcGz6eWeyss4"
   },
   "source": [
    "# Final Transform data\n"
   ]
  },
  {
   "cell_type": "code",
   "execution_count": 35,
   "metadata": {
    "id": "hzRE2v_Vyss5",
    "outputId": "8dfb04d9-d40f-44a9-cdf6-3fa5eeaad12b",
    "scrolled": true
   },
   "outputs": [
    {
     "data": {
      "text/html": [
       "<div>\n",
       "<style scoped>\n",
       "    .dataframe tbody tr th:only-of-type {\n",
       "        vertical-align: middle;\n",
       "    }\n",
       "\n",
       "    .dataframe tbody tr th {\n",
       "        vertical-align: top;\n",
       "    }\n",
       "\n",
       "    .dataframe thead th {\n",
       "        text-align: right;\n",
       "    }\n",
       "</style>\n",
       "<table border=\"1\" class=\"dataframe\">\n",
       "  <thead>\n",
       "    <tr style=\"text-align: right;\">\n",
       "      <th></th>\n",
       "      <th>Customer_Satisfaction</th>\n",
       "      <th>Product_Quality</th>\n",
       "      <th>Customer_Service</th>\n",
       "      <th>Price_Affordability</th>\n",
       "      <th>Brand_Trust</th>\n",
       "      <th>Recommend_To_Friends</th>\n",
       "    </tr>\n",
       "  </thead>\n",
       "  <tbody>\n",
       "    <tr>\n",
       "      <th>0</th>\n",
       "      <td>4</td>\n",
       "      <td>4</td>\n",
       "      <td>4</td>\n",
       "      <td>4</td>\n",
       "      <td>4</td>\n",
       "      <td>0</td>\n",
       "    </tr>\n",
       "    <tr>\n",
       "      <th>1</th>\n",
       "      <td>5</td>\n",
       "      <td>1</td>\n",
       "      <td>4</td>\n",
       "      <td>2</td>\n",
       "      <td>3</td>\n",
       "      <td>1</td>\n",
       "    </tr>\n",
       "    <tr>\n",
       "      <th>2</th>\n",
       "      <td>3</td>\n",
       "      <td>5</td>\n",
       "      <td>4</td>\n",
       "      <td>4</td>\n",
       "      <td>2</td>\n",
       "      <td>0</td>\n",
       "    </tr>\n",
       "    <tr>\n",
       "      <th>3</th>\n",
       "      <td>5</td>\n",
       "      <td>3</td>\n",
       "      <td>4</td>\n",
       "      <td>3</td>\n",
       "      <td>1</td>\n",
       "      <td>1</td>\n",
       "    </tr>\n",
       "    <tr>\n",
       "      <th>4</th>\n",
       "      <td>5</td>\n",
       "      <td>3</td>\n",
       "      <td>5</td>\n",
       "      <td>1</td>\n",
       "      <td>5</td>\n",
       "      <td>0</td>\n",
       "    </tr>\n",
       "  </tbody>\n",
       "</table>\n",
       "</div>"
      ],
      "text/plain": [
       "   Customer_Satisfaction  Product_Quality  Customer_Service  \\\n",
       "0                      4                4                 4   \n",
       "1                      5                1                 4   \n",
       "2                      3                5                 4   \n",
       "3                      5                3                 4   \n",
       "4                      5                3                 5   \n",
       "\n",
       "   Price_Affordability  Brand_Trust  Recommend_To_Friends  \n",
       "0                    4            4                     0  \n",
       "1                    2            3                     1  \n",
       "2                    4            2                     0  \n",
       "3                    3            1                     1  \n",
       "4                    1            5                     0  "
      ]
     },
     "execution_count": 35,
     "metadata": {},
     "output_type": "execute_result"
    }
   ],
   "source": [
    "df.head()"
   ]
  },
  {
   "cell_type": "code",
   "execution_count": 36,
   "metadata": {
    "id": "tDtTDXJ_yss5",
    "outputId": "f1791330-926c-4b4c-e48b-70c1f0032453"
   },
   "outputs": [
    {
     "data": {
      "text/html": [
       "<div>\n",
       "<style scoped>\n",
       "    .dataframe tbody tr th:only-of-type {\n",
       "        vertical-align: middle;\n",
       "    }\n",
       "\n",
       "    .dataframe tbody tr th {\n",
       "        vertical-align: top;\n",
       "    }\n",
       "\n",
       "    .dataframe thead th {\n",
       "        text-align: right;\n",
       "    }\n",
       "</style>\n",
       "<table border=\"1\" class=\"dataframe\">\n",
       "  <thead>\n",
       "    <tr style=\"text-align: right;\">\n",
       "      <th></th>\n",
       "      <th>Data Factor1</th>\n",
       "      <th>Data Factor2</th>\n",
       "      <th>Data Factor3</th>\n",
       "    </tr>\n",
       "  </thead>\n",
       "  <tbody>\n",
       "    <tr>\n",
       "      <th>0</th>\n",
       "      <td>0.327162</td>\n",
       "      <td>-0.164031</td>\n",
       "      <td>-0.003965</td>\n",
       "    </tr>\n",
       "    <tr>\n",
       "      <th>1</th>\n",
       "      <td>-0.406912</td>\n",
       "      <td>1.536443</td>\n",
       "      <td>1.396638</td>\n",
       "    </tr>\n",
       "    <tr>\n",
       "      <th>2</th>\n",
       "      <td>-0.509505</td>\n",
       "      <td>-0.469664</td>\n",
       "      <td>-0.674232</td>\n",
       "    </tr>\n",
       "    <tr>\n",
       "      <th>3</th>\n",
       "      <td>-0.968787</td>\n",
       "      <td>1.798893</td>\n",
       "      <td>0.137017</td>\n",
       "    </tr>\n",
       "    <tr>\n",
       "      <th>4</th>\n",
       "      <td>-0.872435</td>\n",
       "      <td>0.027576</td>\n",
       "      <td>1.457256</td>\n",
       "    </tr>\n",
       "    <tr>\n",
       "      <th>...</th>\n",
       "      <td>...</td>\n",
       "      <td>...</td>\n",
       "      <td>...</td>\n",
       "    </tr>\n",
       "    <tr>\n",
       "      <th>495</th>\n",
       "      <td>-1.180324</td>\n",
       "      <td>-0.337127</td>\n",
       "      <td>1.230473</td>\n",
       "    </tr>\n",
       "    <tr>\n",
       "      <th>496</th>\n",
       "      <td>0.841613</td>\n",
       "      <td>-0.504953</td>\n",
       "      <td>1.335538</td>\n",
       "    </tr>\n",
       "    <tr>\n",
       "      <th>497</th>\n",
       "      <td>-1.401663</td>\n",
       "      <td>-1.680485</td>\n",
       "      <td>1.904839</td>\n",
       "    </tr>\n",
       "    <tr>\n",
       "      <th>498</th>\n",
       "      <td>0.651582</td>\n",
       "      <td>-1.432303</td>\n",
       "      <td>-0.168168</td>\n",
       "    </tr>\n",
       "    <tr>\n",
       "      <th>499</th>\n",
       "      <td>0.551629</td>\n",
       "      <td>-1.751357</td>\n",
       "      <td>0.874810</td>\n",
       "    </tr>\n",
       "  </tbody>\n",
       "</table>\n",
       "<p>500 rows × 3 columns</p>\n",
       "</div>"
      ],
      "text/plain": [
       "     Data Factor1  Data Factor2  Data Factor3\n",
       "0        0.327162     -0.164031     -0.003965\n",
       "1       -0.406912      1.536443      1.396638\n",
       "2       -0.509505     -0.469664     -0.674232\n",
       "3       -0.968787      1.798893      0.137017\n",
       "4       -0.872435      0.027576      1.457256\n",
       "..            ...           ...           ...\n",
       "495     -1.180324     -0.337127      1.230473\n",
       "496      0.841613     -0.504953      1.335538\n",
       "497     -1.401663     -1.680485      1.904839\n",
       "498      0.651582     -1.432303     -0.168168\n",
       "499      0.551629     -1.751357      0.874810\n",
       "\n",
       "[500 rows x 3 columns]"
      ]
     },
     "execution_count": 36,
     "metadata": {},
     "output_type": "execute_result"
    }
   ],
   "source": [
    "output=pd.DataFrame(model.fit_transform(df),columns=['Data Factor1','Data Factor2','Data Factor3'])\n",
    "output"
   ]
  },
  {
   "cell_type": "code",
   "execution_count": 37,
   "metadata": {
    "id": "nxxR9-Kayss6",
    "outputId": "31b7a4da-95de-49e6-85f4-aa9c4bad1ccd"
   },
   "outputs": [
    {
     "name": "stdout",
     "output_type": "stream",
     "text": [
      "original shape:    (500, 6)\n",
      "transformed shape: (500, 3)\n"
     ]
    }
   ],
   "source": [
    "print(\"original shape:   \", df.shape)\n",
    "print(\"transformed shape:\", output.shape)"
   ]
  },
  {
   "cell_type": "markdown",
   "metadata": {
    "id": "uVcOe-G9yss7"
   },
   "source": [
    "# To check the Factor Component is uncorrelated / independent"
   ]
  },
  {
   "cell_type": "code",
   "execution_count": 38,
   "metadata": {
    "id": "38LV9SJTyss7",
    "outputId": "ba145c56-d7ec-45db-feb5-3425d8fd28e0"
   },
   "outputs": [
    {
     "data": {
      "text/html": [
       "<div>\n",
       "<style scoped>\n",
       "    .dataframe tbody tr th:only-of-type {\n",
       "        vertical-align: middle;\n",
       "    }\n",
       "\n",
       "    .dataframe tbody tr th {\n",
       "        vertical-align: top;\n",
       "    }\n",
       "\n",
       "    .dataframe thead th {\n",
       "        text-align: right;\n",
       "    }\n",
       "</style>\n",
       "<table border=\"1\" class=\"dataframe\">\n",
       "  <thead>\n",
       "    <tr style=\"text-align: right;\">\n",
       "      <th></th>\n",
       "      <th>Data Factor1</th>\n",
       "      <th>Data Factor2</th>\n",
       "      <th>Data Factor3</th>\n",
       "    </tr>\n",
       "  </thead>\n",
       "  <tbody>\n",
       "    <tr>\n",
       "      <th>Data Factor1</th>\n",
       "      <td>1.0</td>\n",
       "      <td>-0.0</td>\n",
       "      <td>0.0</td>\n",
       "    </tr>\n",
       "    <tr>\n",
       "      <th>Data Factor2</th>\n",
       "      <td>-0.0</td>\n",
       "      <td>1.0</td>\n",
       "      <td>0.0</td>\n",
       "    </tr>\n",
       "    <tr>\n",
       "      <th>Data Factor3</th>\n",
       "      <td>0.0</td>\n",
       "      <td>0.0</td>\n",
       "      <td>1.0</td>\n",
       "    </tr>\n",
       "  </tbody>\n",
       "</table>\n",
       "</div>"
      ],
      "text/plain": [
       "              Data Factor1  Data Factor2  Data Factor3\n",
       "Data Factor1           1.0          -0.0           0.0\n",
       "Data Factor2          -0.0           1.0           0.0\n",
       "Data Factor3           0.0           0.0           1.0"
      ]
     },
     "execution_count": 38,
     "metadata": {},
     "output_type": "execute_result"
    }
   ],
   "source": [
    "round(output.corr(),5)"
   ]
  },
  {
   "cell_type": "markdown",
   "metadata": {
    "id": "cc0XBKEzyss8"
   },
   "source": [
    "The correlation between Data Factor 1 and Data Factor 2 is -0.0 as shown in the table. This indicates there is no significant linear relationship between these two factors."
   ]
  },
  {
   "cell_type": "code",
   "execution_count": null,
   "metadata": {},
   "outputs": [],
   "source": []
  }
 ],
 "metadata": {
  "colab": {
   "provenance": [],
   "toc_visible": true
  },
  "kernelspec": {
   "display_name": "Python 3 (ipykernel)",
   "language": "python",
   "name": "python3"
  },
  "language_info": {
   "codemirror_mode": {
    "name": "ipython",
    "version": 3
   },
   "file_extension": ".py",
   "mimetype": "text/x-python",
   "name": "python",
   "nbconvert_exporter": "python",
   "pygments_lexer": "ipython3",
   "version": "3.11.5"
  }
 },
 "nbformat": 4,
 "nbformat_minor": 1
}
